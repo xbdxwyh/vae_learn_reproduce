{
 "cells": [
  {
   "cell_type": "markdown",
   "id": "31d105a6",
   "metadata": {},
   "source": [
    "# 0. 准备步骤，导包加载数据"
   ]
  },
  {
   "cell_type": "code",
   "execution_count": 1,
   "id": "e83e668b",
   "metadata": {},
   "outputs": [],
   "source": [
    "import torch\n",
    "import torchvision\n",
    "from torch.utils.data import DataLoader\n",
    "from torchvision import transforms"
   ]
  },
  {
   "cell_type": "code",
   "execution_count": 2,
   "id": "3fe23854",
   "metadata": {},
   "outputs": [],
   "source": [
    "batch_size = 256\n",
    "epoch = 50\n",
    "latent_space_dim = 2\n",
    "hidden_space_dim = 400\n",
    "img_size = 784"
   ]
  },
  {
   "cell_type": "code",
   "execution_count": 3,
   "id": "3a1216cf",
   "metadata": {},
   "outputs": [],
   "source": [
    "dataset = torchvision.datasets.MNIST(root='./data/',\n",
    "                                     train=True,\n",
    "                                     transform=transforms.ToTensor(),\n",
    "                                     download=True)\n",
    "\n",
    "# 数据加载器\n",
    "data_loader = torch.utils.data.DataLoader(dataset=dataset,\n",
    "                                          batch_size=batch_size, \n",
    "                                          shuffle=True)"
   ]
  },
  {
   "cell_type": "code",
   "execution_count": 4,
   "id": "cc4aeeee",
   "metadata": {},
   "outputs": [],
   "source": [
    "for data in data_loader:\n",
    "    break"
   ]
  },
  {
   "cell_type": "code",
   "execution_count": 5,
   "id": "2ba81b9f",
   "metadata": {},
   "outputs": [
    {
     "data": {
      "text/plain": [
       "torch.Size([256, 1, 28, 28])"
      ]
     },
     "execution_count": 5,
     "metadata": {},
     "output_type": "execute_result"
    }
   ],
   "source": [
    "data[0].shape"
   ]
  },
  {
   "cell_type": "markdown",
   "id": "101b8b0a",
   "metadata": {},
   "source": [
    "# 1. 构建编码器"
   ]
  },
  {
   "cell_type": "code",
   "execution_count": 6,
   "id": "60349489",
   "metadata": {},
   "outputs": [],
   "source": [
    "from torch import nn\n",
    "import torch.nn.functional as F \n",
    "import torch\n",
    "import numpy as np"
   ]
  },
  {
   "cell_type": "code",
   "execution_count": 8,
   "id": "6999d0c5",
   "metadata": {},
   "outputs": [],
   "source": [
    "class vaeLinearEncoder(nn.Module):\n",
    "    def __init__(self):\n",
    "        super(vaeLinearEncoder,self).__init__()\n",
    "        self.linears = nn.Sequential(\n",
    "            nn.Linear(img_size,img_size),\n",
    "            # 激活函数十分重要，在VAE中必须保证非负，否则会很难训练\n",
    "            nn.ReLU(),\n",
    "            nn.Linear(img_size,hidden_space_dim),\n",
    "            nn.ReLU(),\n",
    "            nn.Linear(hidden_space_dim,hidden_space_dim),\n",
    "            nn.ReLU(),\n",
    "        )\n",
    "    def forward(self,inputs):\n",
    "        out = self.linears(inputs)\n",
    "        return out"
   ]
  },
  {
   "cell_type": "markdown",
   "id": "c47de61f",
   "metadata": {},
   "source": [
    "# 2.构建解码器"
   ]
  },
  {
   "cell_type": "code",
   "execution_count": 10,
   "id": "19ae8fee",
   "metadata": {},
   "outputs": [],
   "source": [
    "class vaeLinearDecoder(nn.Module):\n",
    "    def __init__(self):\n",
    "        super(vaeLinearDecoder,self).__init__()\n",
    "        self.linears = nn.Sequential(\n",
    "            nn.Linear(latent_space_dim,hidden_space_dim),\n",
    "            nn.ReLU(),\n",
    "            nn.Linear(hidden_space_dim,hidden_space_dim),\n",
    "            nn.ReLU(),\n",
    "            nn.Linear(hidden_space_dim,img_size),\n",
    "            # 这个sigmoid可以换tanh。或者其他类似的，必须保证非线性和非负\n",
    "            nn.Sigmoid(),\n",
    "        )\n",
    "    def forward(self,z_hidden):\n",
    "        imgs_re = self.linears(z_hidden)\n",
    "        return imgs_re"
   ]
  },
  {
   "cell_type": "markdown",
   "id": "b6244367",
   "metadata": {},
   "source": [
    "# 3. 准备VAE的中间变量随机采样过程"
   ]
  },
  {
   "cell_type": "code",
   "execution_count": 12,
   "id": "426c3d63",
   "metadata": {},
   "outputs": [],
   "source": [
    "class VAEModelv2(nn.Module):\n",
    "    def __init__(self):\n",
    "        super(VAEModelv2,self).__init__()\n",
    "        \n",
    "        self.encoder = vaeLinearEncoder()\n",
    "        self.decoder = vaeLinearDecoder()\n",
    "        \n",
    "        self.fitting_mean = nn.Linear(in_features=hidden_space_dim,out_features=latent_space_dim)\n",
    "        self.fitting_log_var = nn.Linear(in_features=hidden_space_dim,out_features=latent_space_dim)\n",
    "        \n",
    "    def forward(self,imgs):\n",
    "        x_hidden = self.encoder(imgs)\n",
    "        \n",
    "        mean_pred = self.fitting_mean(x_hidden)\n",
    "        log_var_pred = self.fitting_log_var(x_hidden)\n",
    "        \n",
    "        # sample from N(0,I)\n",
    "        # re-parameter skill\n",
    "        std = torch.exp(log_var_pred/2)\n",
    "        eps = torch.randn_like(std)\n",
    "        z = mean_pred + eps * std\n",
    "        #miu_norm = torch.randn_like(x_hidden)\n",
    "        #z = torch.exp(log_var_pred) * miu_norm + mean_pred\n",
    "        \n",
    "        imgs_re = self.decoder(z)\n",
    "        \n",
    "        reconst_loss = F.binary_cross_entropy(imgs_re, imgs, size_average=False)\n",
    "        \n",
    "        kl_div = - 0.5 * torch.sum(1 + log_var_pred - mean_pred.pow(2) - log_var_pred.exp())\n",
    "        \n",
    "        return imgs_re,kl_div,reconst_loss"
   ]
  },
  {
   "cell_type": "markdown",
   "id": "15333ba2",
   "metadata": {},
   "source": [
    "# 4. 训练过程"
   ]
  },
  {
   "cell_type": "code",
   "execution_count": 13,
   "id": "1f860d98",
   "metadata": {},
   "outputs": [],
   "source": [
    "from tqdm import tqdm\n",
    "import matplotlib.pyplot as plt\n",
    "from PIL import Image\n",
    "import os\n",
    "from torchvision.utils import save_image"
   ]
  },
  {
   "cell_type": "code",
   "execution_count": 14,
   "id": "c85d3597",
   "metadata": {},
   "outputs": [],
   "source": [
    "# 如果没有文件夹就创建一个文件夹\n",
    "sample_dir = 'samples'\n",
    "if not os.path.exists(sample_dir):\n",
    "    os.makedirs(sample_dir)"
   ]
  },
  {
   "cell_type": "code",
   "execution_count": 15,
   "id": "547665ce",
   "metadata": {},
   "outputs": [],
   "source": [
    "vae = VAEModelv2().cuda()\n",
    "loss_log_list = []\n",
    "kl_log = []\n",
    "reconst_log = []"
   ]
  },
  {
   "cell_type": "code",
   "execution_count": 16,
   "id": "f3699ef0",
   "metadata": {},
   "outputs": [],
   "source": [
    "optimizer = torch.optim.Adam(\n",
    "    vae.parameters(),\n",
    "    lr=1e-4\n",
    ")"
   ]
  },
  {
   "cell_type": "code",
   "execution_count": 17,
   "id": "023ae639",
   "metadata": {},
   "outputs": [
    {
     "name": "stderr",
     "output_type": "stream",
     "text": [
      "  0%|                                                                                           | 0/50 [00:00<?, ?it/s]D:\\Anaconda3\\envs\\bishe\\lib\\site-packages\\torch\\nn\\_reduction.py:42: UserWarning: size_average and reduce args will be deprecated, please use reduction='sum' instead.\n",
      "  warnings.warn(warning.format(ret))\n"
     ]
    },
    {
     "name": "stdout",
     "output_type": "stream",
     "text": [
      "Epoch[1/50], Step [1/235], Reconst Loss: 139438.4688, KL Div: 0.1756\n",
      "Epoch[1/50], Step [26/235], Reconst Loss: 115899.5625, KL Div: 376.4882\n",
      "Epoch[1/50], Step [51/235], Reconst Loss: 61168.1484, KL Div: 3713.4788\n",
      "Epoch[1/50], Step [76/235], Reconst Loss: 54114.5156, KL Div: 2879.5508\n",
      "Epoch[1/50], Step [101/235], Reconst Loss: 53325.9141, KL Div: 2292.6157\n",
      "Epoch[1/50], Step [126/235], Reconst Loss: 54222.3398, KL Div: 1682.3657\n",
      "Epoch[1/50], Step [151/235], Reconst Loss: 51204.0312, KL Div: 1728.4729\n",
      "Epoch[1/50], Step [176/235], Reconst Loss: 51902.8789, KL Div: 1457.7815\n",
      "Epoch[1/50], Step [201/235], Reconst Loss: 51156.8828, KL Div: 1308.7207\n",
      "Epoch[1/50], Step [226/235], Reconst Loss: 51293.5625, KL Div: 1199.7246\n"
     ]
    },
    {
     "name": "stderr",
     "output_type": "stream",
     "text": [
      "\r",
      "  2%|█▋                                                                                 | 1/50 [00:05<04:13,  5.17s/it]"
     ]
    },
    {
     "name": "stdout",
     "output_type": "stream",
     "text": [
      "Epoch[2/50], Step [1/235], Reconst Loss: 50965.0234, KL Div: 1272.9788\n",
      "Epoch[2/50], Step [26/235], Reconst Loss: 50686.8672, KL Div: 1159.6697\n",
      "Epoch[2/50], Step [51/235], Reconst Loss: 51285.3438, KL Div: 1050.4635\n",
      "Epoch[2/50], Step [76/235], Reconst Loss: 49076.7109, KL Div: 1148.2393\n",
      "Epoch[2/50], Step [101/235], Reconst Loss: 49618.9609, KL Div: 1023.9872\n",
      "Epoch[2/50], Step [126/235], Reconst Loss: 50224.0625, KL Div: 882.2498\n",
      "Epoch[2/50], Step [151/235], Reconst Loss: 48420.9180, KL Div: 1001.0176\n",
      "Epoch[2/50], Step [176/235], Reconst Loss: 50486.7500, KL Div: 834.4238\n",
      "Epoch[2/50], Step [201/235], Reconst Loss: 47762.2500, KL Div: 901.6809\n",
      "Epoch[2/50], Step [226/235], Reconst Loss: 48678.3516, KL Div: 859.7316\n"
     ]
    },
    {
     "name": "stderr",
     "output_type": "stream",
     "text": [
      "\r",
      "  4%|███▎                                                                               | 2/50 [00:09<03:49,  4.77s/it]"
     ]
    },
    {
     "name": "stdout",
     "output_type": "stream",
     "text": [
      "Epoch[3/50], Step [1/235], Reconst Loss: 46843.7578, KL Div: 898.5035\n",
      "Epoch[3/50], Step [26/235], Reconst Loss: 47629.6719, KL Div: 864.5609\n",
      "Epoch[3/50], Step [51/235], Reconst Loss: 48382.4570, KL Div: 826.8862\n",
      "Epoch[3/50], Step [76/235], Reconst Loss: 48295.8281, KL Div: 863.6021\n",
      "Epoch[3/50], Step [101/235], Reconst Loss: 48895.5234, KL Div: 802.6970\n",
      "Epoch[3/50], Step [126/235], Reconst Loss: 47897.8594, KL Div: 863.3555\n",
      "Epoch[3/50], Step [151/235], Reconst Loss: 46087.8281, KL Div: 958.8229\n",
      "Epoch[3/50], Step [176/235], Reconst Loss: 44981.6250, KL Div: 1005.5405\n",
      "Epoch[3/50], Step [201/235], Reconst Loss: 46936.4336, KL Div: 951.7296\n",
      "Epoch[3/50], Step [226/235], Reconst Loss: 46695.1875, KL Div: 929.7834\n"
     ]
    },
    {
     "name": "stderr",
     "output_type": "stream",
     "text": [
      "\r",
      "  6%|████▉                                                                              | 3/50 [00:14<03:38,  4.64s/it]"
     ]
    },
    {
     "name": "stdout",
     "output_type": "stream",
     "text": [
      "Epoch[4/50], Step [1/235], Reconst Loss: 46719.0117, KL Div: 969.0922\n",
      "Epoch[4/50], Step [26/235], Reconst Loss: 44793.6406, KL Div: 1015.1681\n",
      "Epoch[4/50], Step [51/235], Reconst Loss: 44919.5859, KL Div: 1016.2573\n",
      "Epoch[4/50], Step [76/235], Reconst Loss: 45087.1836, KL Div: 1010.2789\n",
      "Epoch[4/50], Step [101/235], Reconst Loss: 45564.4336, KL Div: 1007.6401\n",
      "Epoch[4/50], Step [126/235], Reconst Loss: 44956.0000, KL Div: 1027.8612\n",
      "Epoch[4/50], Step [151/235], Reconst Loss: 44730.4453, KL Div: 1030.6545\n",
      "Epoch[4/50], Step [176/235], Reconst Loss: 44614.2539, KL Div: 1081.0105\n",
      "Epoch[4/50], Step [201/235], Reconst Loss: 44760.1484, KL Div: 1207.0326\n",
      "Epoch[4/50], Step [226/235], Reconst Loss: 43615.7266, KL Div: 1138.8462\n"
     ]
    },
    {
     "name": "stderr",
     "output_type": "stream",
     "text": [
      "\r",
      "  8%|██████▋                                                                            | 4/50 [00:18<03:30,  4.57s/it]"
     ]
    },
    {
     "name": "stdout",
     "output_type": "stream",
     "text": [
      "Epoch[5/50], Step [1/235], Reconst Loss: 43161.9688, KL Div: 1117.1066\n",
      "Epoch[5/50], Step [26/235], Reconst Loss: 44728.0977, KL Div: 1171.1125\n",
      "Epoch[5/50], Step [51/235], Reconst Loss: 42999.1953, KL Div: 1188.3308\n",
      "Epoch[5/50], Step [76/235], Reconst Loss: 41942.4414, KL Div: 1235.2295\n",
      "Epoch[5/50], Step [101/235], Reconst Loss: 43385.0742, KL Div: 1111.1316\n",
      "Epoch[5/50], Step [126/235], Reconst Loss: 43172.0938, KL Div: 1184.0920\n",
      "Epoch[5/50], Step [151/235], Reconst Loss: 42832.0195, KL Div: 1171.5465\n",
      "Epoch[5/50], Step [176/235], Reconst Loss: 42680.7148, KL Div: 1168.6614\n",
      "Epoch[5/50], Step [201/235], Reconst Loss: 43725.8359, KL Div: 1138.3813\n",
      "Epoch[5/50], Step [226/235], Reconst Loss: 44227.2148, KL Div: 1216.6769\n"
     ]
    },
    {
     "name": "stderr",
     "output_type": "stream",
     "text": [
      "\r",
      " 10%|████████▎                                                                          | 5/50 [00:23<03:24,  4.53s/it]"
     ]
    },
    {
     "name": "stdout",
     "output_type": "stream",
     "text": [
      "Epoch[6/50], Step [1/235], Reconst Loss: 43243.2266, KL Div: 1128.9900\n",
      "Epoch[6/50], Step [26/235], Reconst Loss: 42035.3672, KL Div: 1232.0991\n",
      "Epoch[6/50], Step [51/235], Reconst Loss: 41777.8984, KL Div: 1277.3403\n",
      "Epoch[6/50], Step [76/235], Reconst Loss: 43405.9688, KL Div: 1132.6979\n",
      "Epoch[6/50], Step [101/235], Reconst Loss: 41057.9258, KL Div: 1290.2495\n",
      "Epoch[6/50], Step [126/235], Reconst Loss: 41482.5312, KL Div: 1279.4919\n",
      "Epoch[6/50], Step [151/235], Reconst Loss: 41864.2891, KL Div: 1247.8627\n",
      "Epoch[6/50], Step [176/235], Reconst Loss: 43140.0586, KL Div: 1212.8572\n",
      "Epoch[6/50], Step [201/235], Reconst Loss: 41697.3203, KL Div: 1277.3256\n",
      "Epoch[6/50], Step [226/235], Reconst Loss: 42396.8359, KL Div: 1286.4418\n"
     ]
    },
    {
     "name": "stderr",
     "output_type": "stream",
     "text": [
      "\r",
      " 12%|█████████▉                                                                         | 6/50 [00:27<03:18,  4.51s/it]"
     ]
    },
    {
     "name": "stdout",
     "output_type": "stream",
     "text": [
      "Epoch[7/50], Step [1/235], Reconst Loss: 42661.8750, KL Div: 1159.0369\n",
      "Epoch[7/50], Step [26/235], Reconst Loss: 43755.1914, KL Div: 1191.7739\n",
      "Epoch[7/50], Step [51/235], Reconst Loss: 41807.4492, KL Div: 1265.7366\n",
      "Epoch[7/50], Step [76/235], Reconst Loss: 42103.2109, KL Div: 1254.2202\n",
      "Epoch[7/50], Step [101/235], Reconst Loss: 42714.2734, KL Div: 1251.3888\n",
      "Epoch[7/50], Step [126/235], Reconst Loss: 42893.1406, KL Div: 1186.1249\n",
      "Epoch[7/50], Step [151/235], Reconst Loss: 42980.3984, KL Div: 1177.9249\n",
      "Epoch[7/50], Step [176/235], Reconst Loss: 41316.2578, KL Div: 1264.1284\n",
      "Epoch[7/50], Step [201/235], Reconst Loss: 41725.2344, KL Div: 1209.0171\n",
      "Epoch[7/50], Step [226/235], Reconst Loss: 41811.0625, KL Div: 1282.9407\n"
     ]
    },
    {
     "name": "stderr",
     "output_type": "stream",
     "text": [
      "\r",
      " 14%|███████████▌                                                                       | 7/50 [00:32<03:13,  4.50s/it]"
     ]
    },
    {
     "name": "stdout",
     "output_type": "stream",
     "text": [
      "Epoch[8/50], Step [1/235], Reconst Loss: 41041.4805, KL Div: 1268.7075\n",
      "Epoch[8/50], Step [26/235], Reconst Loss: 41206.4648, KL Div: 1302.5339\n",
      "Epoch[8/50], Step [51/235], Reconst Loss: 40538.5078, KL Div: 1296.3604\n",
      "Epoch[8/50], Step [76/235], Reconst Loss: 40421.8047, KL Div: 1302.2273\n",
      "Epoch[8/50], Step [101/235], Reconst Loss: 41697.0625, KL Div: 1224.9465\n",
      "Epoch[8/50], Step [126/235], Reconst Loss: 41616.7500, KL Div: 1271.8669\n",
      "Epoch[8/50], Step [151/235], Reconst Loss: 42966.8906, KL Div: 1243.2418\n",
      "Epoch[8/50], Step [176/235], Reconst Loss: 40049.3945, KL Div: 1258.3009\n",
      "Epoch[8/50], Step [201/235], Reconst Loss: 39924.7930, KL Div: 1354.2129\n",
      "Epoch[8/50], Step [226/235], Reconst Loss: 41119.5547, KL Div: 1229.9750\n"
     ]
    },
    {
     "name": "stderr",
     "output_type": "stream",
     "text": [
      "\r",
      " 16%|█████████████▎                                                                     | 8/50 [00:36<03:08,  4.48s/it]"
     ]
    },
    {
     "name": "stdout",
     "output_type": "stream",
     "text": [
      "Epoch[9/50], Step [1/235], Reconst Loss: 41641.9883, KL Div: 1311.2810\n",
      "Epoch[9/50], Step [26/235], Reconst Loss: 41377.5195, KL Div: 1298.2266\n",
      "Epoch[9/50], Step [51/235], Reconst Loss: 41291.9570, KL Div: 1283.6987\n",
      "Epoch[9/50], Step [76/235], Reconst Loss: 41322.5938, KL Div: 1255.3591\n",
      "Epoch[9/50], Step [101/235], Reconst Loss: 41585.6719, KL Div: 1272.3966\n",
      "Epoch[9/50], Step [126/235], Reconst Loss: 41688.8281, KL Div: 1304.5250\n",
      "Epoch[9/50], Step [151/235], Reconst Loss: 42174.4453, KL Div: 1268.8824\n",
      "Epoch[9/50], Step [176/235], Reconst Loss: 40171.9375, KL Div: 1302.5807\n",
      "Epoch[9/50], Step [201/235], Reconst Loss: 41928.8203, KL Div: 1233.9651\n",
      "Epoch[9/50], Step [226/235], Reconst Loss: 40651.4336, KL Div: 1333.5668\n"
     ]
    },
    {
     "name": "stderr",
     "output_type": "stream",
     "text": [
      "\r",
      " 18%|██████████████▉                                                                    | 9/50 [00:40<03:03,  4.47s/it]"
     ]
    },
    {
     "name": "stdout",
     "output_type": "stream",
     "text": [
      "Epoch[10/50], Step [1/235], Reconst Loss: 40919.6562, KL Div: 1323.1864\n",
      "Epoch[10/50], Step [26/235], Reconst Loss: 40213.7070, KL Div: 1276.4613\n",
      "Epoch[10/50], Step [51/235], Reconst Loss: 39440.3828, KL Div: 1333.9836\n",
      "Epoch[10/50], Step [76/235], Reconst Loss: 39450.0039, KL Div: 1276.7794\n",
      "Epoch[10/50], Step [101/235], Reconst Loss: 40462.1250, KL Div: 1384.7573\n",
      "Epoch[10/50], Step [126/235], Reconst Loss: 39635.1641, KL Div: 1303.2314\n",
      "Epoch[10/50], Step [151/235], Reconst Loss: 39890.1172, KL Div: 1300.9561\n",
      "Epoch[10/50], Step [176/235], Reconst Loss: 39752.3711, KL Div: 1326.8596\n",
      "Epoch[10/50], Step [201/235], Reconst Loss: 40307.7891, KL Div: 1337.5398\n",
      "Epoch[10/50], Step [226/235], Reconst Loss: 39215.1953, KL Div: 1325.2076\n"
     ]
    },
    {
     "name": "stderr",
     "output_type": "stream",
     "text": [
      "\r",
      " 20%|████████████████▍                                                                 | 10/50 [00:45<02:58,  4.47s/it]"
     ]
    },
    {
     "name": "stdout",
     "output_type": "stream",
     "text": [
      "Epoch[11/50], Step [1/235], Reconst Loss: 40676.3438, KL Div: 1272.5906\n",
      "Epoch[11/50], Step [26/235], Reconst Loss: 39431.4414, KL Div: 1413.4980\n",
      "Epoch[11/50], Step [51/235], Reconst Loss: 39772.1992, KL Div: 1296.1636\n",
      "Epoch[11/50], Step [76/235], Reconst Loss: 41045.8555, KL Div: 1309.8627\n",
      "Epoch[11/50], Step [101/235], Reconst Loss: 40542.4766, KL Div: 1329.0121\n",
      "Epoch[11/50], Step [126/235], Reconst Loss: 40823.5000, KL Div: 1359.8459\n",
      "Epoch[11/50], Step [151/235], Reconst Loss: 41820.0781, KL Div: 1280.9355\n",
      "Epoch[11/50], Step [176/235], Reconst Loss: 41121.3672, KL Div: 1291.9402\n",
      "Epoch[11/50], Step [201/235], Reconst Loss: 39923.7070, KL Div: 1360.5625\n",
      "Epoch[11/50], Step [226/235], Reconst Loss: 40337.3086, KL Div: 1323.0104\n"
     ]
    },
    {
     "name": "stderr",
     "output_type": "stream",
     "text": [
      "\r",
      " 22%|██████████████████                                                                | 11/50 [00:49<02:55,  4.50s/it]"
     ]
    },
    {
     "name": "stdout",
     "output_type": "stream",
     "text": [
      "Epoch[12/50], Step [1/235], Reconst Loss: 39917.3398, KL Div: 1289.6437\n",
      "Epoch[12/50], Step [26/235], Reconst Loss: 40420.4062, KL Div: 1325.9972\n",
      "Epoch[12/50], Step [51/235], Reconst Loss: 38603.8984, KL Div: 1371.5535\n",
      "Epoch[12/50], Step [76/235], Reconst Loss: 39670.2227, KL Div: 1380.9241\n",
      "Epoch[12/50], Step [101/235], Reconst Loss: 38989.0078, KL Div: 1367.4966\n",
      "Epoch[12/50], Step [126/235], Reconst Loss: 39971.8164, KL Div: 1370.4221\n",
      "Epoch[12/50], Step [151/235], Reconst Loss: 39077.0391, KL Div: 1364.6990\n",
      "Epoch[12/50], Step [176/235], Reconst Loss: 40219.2500, KL Div: 1389.8860\n",
      "Epoch[12/50], Step [201/235], Reconst Loss: 38674.1484, KL Div: 1391.5493\n",
      "Epoch[12/50], Step [226/235], Reconst Loss: 39500.5156, KL Div: 1398.0518\n"
     ]
    },
    {
     "name": "stderr",
     "output_type": "stream",
     "text": [
      "\r",
      " 24%|███████████████████▋                                                              | 12/50 [00:54<02:50,  4.49s/it]"
     ]
    },
    {
     "name": "stdout",
     "output_type": "stream",
     "text": [
      "Epoch[13/50], Step [1/235], Reconst Loss: 39982.0938, KL Div: 1363.0695\n",
      "Epoch[13/50], Step [26/235], Reconst Loss: 39715.3203, KL Div: 1371.7935\n",
      "Epoch[13/50], Step [51/235], Reconst Loss: 39461.5391, KL Div: 1425.0681\n",
      "Epoch[13/50], Step [76/235], Reconst Loss: 38948.3867, KL Div: 1397.3436\n",
      "Epoch[13/50], Step [101/235], Reconst Loss: 40835.0859, KL Div: 1361.2554\n",
      "Epoch[13/50], Step [126/235], Reconst Loss: 39531.6328, KL Div: 1332.6827\n",
      "Epoch[13/50], Step [151/235], Reconst Loss: 39973.1484, KL Div: 1345.4429\n",
      "Epoch[13/50], Step [176/235], Reconst Loss: 38567.3203, KL Div: 1386.3511\n",
      "Epoch[13/50], Step [201/235], Reconst Loss: 39841.6719, KL Div: 1373.7893\n",
      "Epoch[13/50], Step [226/235], Reconst Loss: 40834.4375, KL Div: 1388.3606\n"
     ]
    },
    {
     "name": "stderr",
     "output_type": "stream",
     "text": [
      "\r",
      " 26%|█████████████████████▎                                                            | 13/50 [00:58<02:45,  4.48s/it]"
     ]
    },
    {
     "name": "stdout",
     "output_type": "stream",
     "text": [
      "Epoch[14/50], Step [1/235], Reconst Loss: 39516.8984, KL Div: 1341.9983\n",
      "Epoch[14/50], Step [26/235], Reconst Loss: 41131.9336, KL Div: 1336.0565\n",
      "Epoch[14/50], Step [51/235], Reconst Loss: 40780.8164, KL Div: 1342.5194\n",
      "Epoch[14/50], Step [76/235], Reconst Loss: 41013.1328, KL Div: 1373.9050\n",
      "Epoch[14/50], Step [101/235], Reconst Loss: 39158.8750, KL Div: 1369.4653\n",
      "Epoch[14/50], Step [126/235], Reconst Loss: 37762.0195, KL Div: 1430.9927\n",
      "Epoch[14/50], Step [151/235], Reconst Loss: 38088.2969, KL Div: 1383.2805\n",
      "Epoch[14/50], Step [176/235], Reconst Loss: 39823.0586, KL Div: 1365.4960\n",
      "Epoch[14/50], Step [201/235], Reconst Loss: 38231.6914, KL Div: 1419.8032\n",
      "Epoch[14/50], Step [226/235], Reconst Loss: 38956.8984, KL Div: 1398.9617\n"
     ]
    },
    {
     "name": "stderr",
     "output_type": "stream",
     "text": [
      "\r",
      " 28%|██████████████████████▉                                                           | 14/50 [01:03<02:41,  4.49s/it]"
     ]
    },
    {
     "name": "stdout",
     "output_type": "stream",
     "text": [
      "Epoch[15/50], Step [1/235], Reconst Loss: 38985.3945, KL Div: 1435.4709\n",
      "Epoch[15/50], Step [26/235], Reconst Loss: 39171.4648, KL Div: 1354.2635\n",
      "Epoch[15/50], Step [51/235], Reconst Loss: 40669.3633, KL Div: 1371.0249\n",
      "Epoch[15/50], Step [76/235], Reconst Loss: 40108.9219, KL Div: 1329.8138\n",
      "Epoch[15/50], Step [101/235], Reconst Loss: 39519.4375, KL Div: 1386.8589\n",
      "Epoch[15/50], Step [126/235], Reconst Loss: 39522.2617, KL Div: 1430.4763\n",
      "Epoch[15/50], Step [151/235], Reconst Loss: 39005.3164, KL Div: 1393.8500\n",
      "Epoch[15/50], Step [176/235], Reconst Loss: 38031.2617, KL Div: 1418.1316\n",
      "Epoch[15/50], Step [201/235], Reconst Loss: 40221.6289, KL Div: 1356.4158\n",
      "Epoch[15/50], Step [226/235], Reconst Loss: 39214.8242, KL Div: 1379.3666\n"
     ]
    },
    {
     "name": "stderr",
     "output_type": "stream",
     "text": [
      "\r",
      " 30%|████████████████████████▌                                                         | 15/50 [01:07<02:36,  4.48s/it]"
     ]
    },
    {
     "name": "stdout",
     "output_type": "stream",
     "text": [
      "Epoch[16/50], Step [1/235], Reconst Loss: 39193.4805, KL Div: 1389.2905\n",
      "Epoch[16/50], Step [26/235], Reconst Loss: 40529.1641, KL Div: 1352.6915\n",
      "Epoch[16/50], Step [51/235], Reconst Loss: 38490.8516, KL Div: 1410.6322\n",
      "Epoch[16/50], Step [76/235], Reconst Loss: 39573.1445, KL Div: 1388.8755\n",
      "Epoch[16/50], Step [101/235], Reconst Loss: 38185.7188, KL Div: 1443.4100\n",
      "Epoch[16/50], Step [126/235], Reconst Loss: 37990.6602, KL Div: 1440.6110\n",
      "Epoch[16/50], Step [151/235], Reconst Loss: 39888.8750, KL Div: 1378.3419\n",
      "Epoch[16/50], Step [176/235], Reconst Loss: 40117.9180, KL Div: 1382.8057\n",
      "Epoch[16/50], Step [201/235], Reconst Loss: 38283.3984, KL Div: 1387.9448\n",
      "Epoch[16/50], Step [226/235], Reconst Loss: 37055.7500, KL Div: 1404.7948\n"
     ]
    },
    {
     "name": "stderr",
     "output_type": "stream",
     "text": [
      "\r",
      " 32%|██████████████████████████▏                                                       | 16/50 [01:12<02:32,  4.48s/it]"
     ]
    },
    {
     "name": "stdout",
     "output_type": "stream",
     "text": [
      "Epoch[17/50], Step [1/235], Reconst Loss: 38989.2695, KL Div: 1432.4257\n",
      "Epoch[17/50], Step [26/235], Reconst Loss: 39912.5703, KL Div: 1353.7373\n",
      "Epoch[17/50], Step [51/235], Reconst Loss: 39976.3555, KL Div: 1381.7551\n",
      "Epoch[17/50], Step [76/235], Reconst Loss: 37979.1484, KL Div: 1415.2834\n",
      "Epoch[17/50], Step [101/235], Reconst Loss: 38181.2891, KL Div: 1463.4202\n",
      "Epoch[17/50], Step [126/235], Reconst Loss: 39345.0156, KL Div: 1394.2789\n",
      "Epoch[17/50], Step [151/235], Reconst Loss: 38095.5859, KL Div: 1393.9396\n",
      "Epoch[17/50], Step [176/235], Reconst Loss: 38452.4258, KL Div: 1420.0308\n",
      "Epoch[17/50], Step [201/235], Reconst Loss: 38240.4609, KL Div: 1376.8293\n",
      "Epoch[17/50], Step [226/235], Reconst Loss: 38707.6719, KL Div: 1413.1907\n"
     ]
    },
    {
     "name": "stderr",
     "output_type": "stream",
     "text": [
      "\r",
      " 34%|███████████████████████████▉                                                      | 17/50 [01:16<02:27,  4.47s/it]"
     ]
    },
    {
     "name": "stdout",
     "output_type": "stream",
     "text": [
      "Epoch[18/50], Step [1/235], Reconst Loss: 39818.0508, KL Div: 1421.0924\n",
      "Epoch[18/50], Step [26/235], Reconst Loss: 39383.6641, KL Div: 1426.8247\n",
      "Epoch[18/50], Step [51/235], Reconst Loss: 39088.1992, KL Div: 1416.1765\n",
      "Epoch[18/50], Step [76/235], Reconst Loss: 38121.9648, KL Div: 1398.9543\n",
      "Epoch[18/50], Step [101/235], Reconst Loss: 38475.1328, KL Div: 1415.2499\n",
      "Epoch[18/50], Step [126/235], Reconst Loss: 38227.3164, KL Div: 1439.3186\n",
      "Epoch[18/50], Step [151/235], Reconst Loss: 37686.1953, KL Div: 1462.1490\n",
      "Epoch[18/50], Step [176/235], Reconst Loss: 40289.1641, KL Div: 1414.9753\n",
      "Epoch[18/50], Step [201/235], Reconst Loss: 38681.3945, KL Div: 1409.4772\n",
      "Epoch[18/50], Step [226/235], Reconst Loss: 39399.3359, KL Div: 1450.4366\n"
     ]
    },
    {
     "name": "stderr",
     "output_type": "stream",
     "text": [
      "\r",
      " 36%|█████████████████████████████▌                                                    | 18/50 [01:21<02:22,  4.46s/it]"
     ]
    },
    {
     "name": "stdout",
     "output_type": "stream",
     "text": [
      "Epoch[19/50], Step [1/235], Reconst Loss: 39360.1602, KL Div: 1399.7152\n",
      "Epoch[19/50], Step [26/235], Reconst Loss: 38732.5156, KL Div: 1427.3010\n",
      "Epoch[19/50], Step [51/235], Reconst Loss: 38516.2266, KL Div: 1411.2700\n",
      "Epoch[19/50], Step [76/235], Reconst Loss: 38688.9688, KL Div: 1366.5393\n",
      "Epoch[19/50], Step [101/235], Reconst Loss: 40137.8672, KL Div: 1387.5719\n",
      "Epoch[19/50], Step [126/235], Reconst Loss: 38298.3633, KL Div: 1466.7529\n",
      "Epoch[19/50], Step [151/235], Reconst Loss: 38593.5781, KL Div: 1420.8662\n",
      "Epoch[19/50], Step [176/235], Reconst Loss: 37361.8750, KL Div: 1426.2098\n",
      "Epoch[19/50], Step [201/235], Reconst Loss: 38208.5820, KL Div: 1433.0684\n",
      "Epoch[19/50], Step [226/235], Reconst Loss: 38293.2383, KL Div: 1416.5681\n"
     ]
    },
    {
     "name": "stderr",
     "output_type": "stream",
     "text": [
      "\r",
      " 38%|███████████████████████████████▏                                                  | 19/50 [01:25<02:18,  4.46s/it]"
     ]
    },
    {
     "name": "stdout",
     "output_type": "stream",
     "text": [
      "Epoch[20/50], Step [1/235], Reconst Loss: 38464.1328, KL Div: 1417.5825\n",
      "Epoch[20/50], Step [26/235], Reconst Loss: 39918.4062, KL Div: 1455.9656\n",
      "Epoch[20/50], Step [51/235], Reconst Loss: 38797.2969, KL Div: 1401.6167\n",
      "Epoch[20/50], Step [76/235], Reconst Loss: 38074.3750, KL Div: 1450.7268\n",
      "Epoch[20/50], Step [101/235], Reconst Loss: 35818.7734, KL Div: 1446.3737\n",
      "Epoch[20/50], Step [126/235], Reconst Loss: 37790.8711, KL Div: 1482.3699\n",
      "Epoch[20/50], Step [151/235], Reconst Loss: 38329.6953, KL Div: 1434.0746\n",
      "Epoch[20/50], Step [176/235], Reconst Loss: 38362.8555, KL Div: 1405.1499\n",
      "Epoch[20/50], Step [201/235], Reconst Loss: 37732.9531, KL Div: 1448.5608\n",
      "Epoch[20/50], Step [226/235], Reconst Loss: 38956.2617, KL Div: 1413.0039\n"
     ]
    },
    {
     "name": "stderr",
     "output_type": "stream",
     "text": [
      "\r",
      " 40%|████████████████████████████████▊                                                 | 20/50 [01:30<02:13,  4.45s/it]"
     ]
    },
    {
     "name": "stdout",
     "output_type": "stream",
     "text": [
      "Epoch[21/50], Step [1/235], Reconst Loss: 38952.5273, KL Div: 1403.7568\n",
      "Epoch[21/50], Step [26/235], Reconst Loss: 38299.3438, KL Div: 1442.3046\n",
      "Epoch[21/50], Step [51/235], Reconst Loss: 38280.7930, KL Div: 1451.4122\n",
      "Epoch[21/50], Step [76/235], Reconst Loss: 37985.5508, KL Div: 1436.4783\n",
      "Epoch[21/50], Step [101/235], Reconst Loss: 37263.6797, KL Div: 1473.5212\n",
      "Epoch[21/50], Step [126/235], Reconst Loss: 38223.7031, KL Div: 1474.0687\n",
      "Epoch[21/50], Step [151/235], Reconst Loss: 37569.6094, KL Div: 1472.8048\n",
      "Epoch[21/50], Step [176/235], Reconst Loss: 39373.8672, KL Div: 1449.8369\n",
      "Epoch[21/50], Step [201/235], Reconst Loss: 39293.7422, KL Div: 1423.7266\n",
      "Epoch[21/50], Step [226/235], Reconst Loss: 38680.9883, KL Div: 1463.9209\n"
     ]
    },
    {
     "name": "stderr",
     "output_type": "stream",
     "text": [
      "\r",
      " 42%|██████████████████████████████████▍                                               | 21/50 [01:34<02:09,  4.46s/it]"
     ]
    },
    {
     "name": "stdout",
     "output_type": "stream",
     "text": [
      "Epoch[22/50], Step [1/235], Reconst Loss: 37106.2188, KL Div: 1456.9543\n",
      "Epoch[22/50], Step [26/235], Reconst Loss: 38691.8281, KL Div: 1413.2510\n",
      "Epoch[22/50], Step [51/235], Reconst Loss: 38841.9922, KL Div: 1405.3613\n",
      "Epoch[22/50], Step [76/235], Reconst Loss: 37866.9141, KL Div: 1413.2625\n",
      "Epoch[22/50], Step [101/235], Reconst Loss: 37839.1758, KL Div: 1433.8245\n",
      "Epoch[22/50], Step [126/235], Reconst Loss: 39105.1328, KL Div: 1447.9376\n",
      "Epoch[22/50], Step [151/235], Reconst Loss: 38683.0977, KL Div: 1445.4817\n",
      "Epoch[22/50], Step [176/235], Reconst Loss: 38067.6055, KL Div: 1470.6984\n",
      "Epoch[22/50], Step [201/235], Reconst Loss: 38043.5859, KL Div: 1427.5754\n",
      "Epoch[22/50], Step [226/235], Reconst Loss: 37297.8828, KL Div: 1480.3765\n"
     ]
    },
    {
     "name": "stderr",
     "output_type": "stream",
     "text": [
      "\r",
      " 44%|████████████████████████████████████                                              | 22/50 [01:39<02:07,  4.55s/it]"
     ]
    },
    {
     "name": "stdout",
     "output_type": "stream",
     "text": [
      "Epoch[23/50], Step [1/235], Reconst Loss: 37594.0508, KL Div: 1443.6455\n",
      "Epoch[23/50], Step [26/235], Reconst Loss: 39728.2305, KL Div: 1435.2844\n",
      "Epoch[23/50], Step [51/235], Reconst Loss: 37796.6367, KL Div: 1446.4697\n",
      "Epoch[23/50], Step [76/235], Reconst Loss: 37421.1484, KL Div: 1470.4005\n",
      "Epoch[23/50], Step [101/235], Reconst Loss: 37582.9844, KL Div: 1436.5862\n",
      "Epoch[23/50], Step [126/235], Reconst Loss: 38494.4023, KL Div: 1481.4663\n",
      "Epoch[23/50], Step [151/235], Reconst Loss: 35828.9570, KL Div: 1499.9919\n",
      "Epoch[23/50], Step [176/235], Reconst Loss: 38255.3359, KL Div: 1471.1005\n",
      "Epoch[23/50], Step [201/235], Reconst Loss: 38509.2969, KL Div: 1439.1973\n",
      "Epoch[23/50], Step [226/235], Reconst Loss: 38208.6875, KL Div: 1507.2981\n"
     ]
    },
    {
     "name": "stderr",
     "output_type": "stream",
     "text": [
      "\r",
      " 46%|█████████████████████████████████████▋                                            | 23/50 [01:44<02:04,  4.60s/it]"
     ]
    },
    {
     "name": "stdout",
     "output_type": "stream",
     "text": [
      "Epoch[24/50], Step [1/235], Reconst Loss: 36660.5469, KL Div: 1518.8376\n",
      "Epoch[24/50], Step [26/235], Reconst Loss: 38417.6484, KL Div: 1442.7357\n",
      "Epoch[24/50], Step [51/235], Reconst Loss: 37214.1172, KL Div: 1441.7913\n",
      "Epoch[24/50], Step [76/235], Reconst Loss: 38610.4609, KL Div: 1469.2556\n",
      "Epoch[24/50], Step [101/235], Reconst Loss: 36685.2773, KL Div: 1508.4580\n",
      "Epoch[24/50], Step [126/235], Reconst Loss: 37482.3828, KL Div: 1503.3149\n",
      "Epoch[24/50], Step [151/235], Reconst Loss: 38233.2461, KL Div: 1448.2040\n",
      "Epoch[24/50], Step [176/235], Reconst Loss: 37900.5508, KL Div: 1525.2642\n",
      "Epoch[24/50], Step [201/235], Reconst Loss: 37640.4922, KL Div: 1461.6908\n",
      "Epoch[24/50], Step [226/235], Reconst Loss: 37702.3359, KL Div: 1517.6392\n"
     ]
    },
    {
     "name": "stderr",
     "output_type": "stream",
     "text": [
      "\r",
      " 48%|███████████████████████████████████████▎                                          | 24/50 [01:48<02:00,  4.63s/it]"
     ]
    },
    {
     "name": "stdout",
     "output_type": "stream",
     "text": [
      "Epoch[25/50], Step [1/235], Reconst Loss: 39073.1523, KL Div: 1504.0354\n",
      "Epoch[25/50], Step [26/235], Reconst Loss: 38711.1953, KL Div: 1482.5826\n",
      "Epoch[25/50], Step [51/235], Reconst Loss: 38146.9922, KL Div: 1438.8690\n",
      "Epoch[25/50], Step [76/235], Reconst Loss: 36939.1680, KL Div: 1508.5095\n",
      "Epoch[25/50], Step [101/235], Reconst Loss: 38352.8594, KL Div: 1482.1482\n",
      "Epoch[25/50], Step [126/235], Reconst Loss: 37417.5117, KL Div: 1476.0024\n",
      "Epoch[25/50], Step [151/235], Reconst Loss: 37877.2891, KL Div: 1477.7959\n",
      "Epoch[25/50], Step [176/235], Reconst Loss: 37568.5000, KL Div: 1473.6714\n",
      "Epoch[25/50], Step [201/235], Reconst Loss: 37653.3438, KL Div: 1503.5626\n",
      "Epoch[25/50], Step [226/235], Reconst Loss: 37378.3906, KL Div: 1495.0416\n"
     ]
    },
    {
     "name": "stderr",
     "output_type": "stream",
     "text": [
      "\r",
      " 50%|█████████████████████████████████████████                                         | 25/50 [01:53<01:57,  4.69s/it]"
     ]
    },
    {
     "name": "stdout",
     "output_type": "stream",
     "text": [
      "Epoch[26/50], Step [1/235], Reconst Loss: 37352.3672, KL Div: 1461.6691\n",
      "Epoch[26/50], Step [26/235], Reconst Loss: 36781.7461, KL Div: 1538.2063\n",
      "Epoch[26/50], Step [51/235], Reconst Loss: 38086.2812, KL Div: 1498.3986\n",
      "Epoch[26/50], Step [76/235], Reconst Loss: 38016.8906, KL Div: 1516.8745\n",
      "Epoch[26/50], Step [101/235], Reconst Loss: 37299.2383, KL Div: 1482.1580\n",
      "Epoch[26/50], Step [126/235], Reconst Loss: 37666.9922, KL Div: 1495.2031\n",
      "Epoch[26/50], Step [151/235], Reconst Loss: 38227.6016, KL Div: 1469.3844\n",
      "Epoch[26/50], Step [176/235], Reconst Loss: 37216.4453, KL Div: 1505.2336\n",
      "Epoch[26/50], Step [201/235], Reconst Loss: 36516.4844, KL Div: 1490.5809\n",
      "Epoch[26/50], Step [226/235], Reconst Loss: 36107.7188, KL Div: 1505.9993\n"
     ]
    },
    {
     "name": "stderr",
     "output_type": "stream",
     "text": [
      "\r",
      " 52%|██████████████████████████████████████████▋                                       | 26/50 [01:58<01:53,  4.72s/it]"
     ]
    },
    {
     "name": "stdout",
     "output_type": "stream",
     "text": [
      "Epoch[27/50], Step [1/235], Reconst Loss: 36270.4883, KL Div: 1510.5863\n",
      "Epoch[27/50], Step [26/235], Reconst Loss: 37934.9922, KL Div: 1501.9293\n",
      "Epoch[27/50], Step [51/235], Reconst Loss: 37854.4023, KL Div: 1480.6079\n",
      "Epoch[27/50], Step [76/235], Reconst Loss: 37119.2969, KL Div: 1453.9171\n",
      "Epoch[27/50], Step [101/235], Reconst Loss: 36667.6445, KL Div: 1499.8868\n",
      "Epoch[27/50], Step [126/235], Reconst Loss: 37092.1953, KL Div: 1541.9392\n",
      "Epoch[27/50], Step [151/235], Reconst Loss: 36110.3711, KL Div: 1544.3894\n",
      "Epoch[27/50], Step [176/235], Reconst Loss: 36347.2578, KL Div: 1498.2869\n",
      "Epoch[27/50], Step [201/235], Reconst Loss: 37535.6328, KL Div: 1516.8162\n",
      "Epoch[27/50], Step [226/235], Reconst Loss: 37632.1094, KL Div: 1487.9980\n"
     ]
    },
    {
     "name": "stderr",
     "output_type": "stream",
     "text": [
      "\r",
      " 54%|████████████████████████████████████████████▎                                     | 27/50 [02:03<01:49,  4.74s/it]"
     ]
    },
    {
     "name": "stdout",
     "output_type": "stream",
     "text": [
      "Epoch[28/50], Step [1/235], Reconst Loss: 36592.2344, KL Div: 1527.6798\n",
      "Epoch[28/50], Step [26/235], Reconst Loss: 37665.7734, KL Div: 1462.9106\n",
      "Epoch[28/50], Step [51/235], Reconst Loss: 39152.5312, KL Div: 1510.4541\n",
      "Epoch[28/50], Step [76/235], Reconst Loss: 37448.5352, KL Div: 1483.2014\n",
      "Epoch[28/50], Step [101/235], Reconst Loss: 37713.8984, KL Div: 1508.6716\n",
      "Epoch[28/50], Step [126/235], Reconst Loss: 37940.4922, KL Div: 1474.3441\n",
      "Epoch[28/50], Step [151/235], Reconst Loss: 36466.1328, KL Div: 1497.4412\n",
      "Epoch[28/50], Step [176/235], Reconst Loss: 37175.5469, KL Div: 1466.8184\n",
      "Epoch[28/50], Step [201/235], Reconst Loss: 35941.3047, KL Div: 1554.0073\n",
      "Epoch[28/50], Step [226/235], Reconst Loss: 36325.1445, KL Div: 1506.7830\n"
     ]
    },
    {
     "name": "stderr",
     "output_type": "stream",
     "text": [
      "\r",
      " 56%|█████████████████████████████████████████████▉                                    | 28/50 [02:07<01:43,  4.69s/it]"
     ]
    },
    {
     "name": "stdout",
     "output_type": "stream",
     "text": [
      "Epoch[29/50], Step [1/235], Reconst Loss: 37338.3398, KL Div: 1505.0891\n",
      "Epoch[29/50], Step [26/235], Reconst Loss: 38246.6367, KL Div: 1442.1073\n",
      "Epoch[29/50], Step [51/235], Reconst Loss: 37113.9023, KL Div: 1498.9785\n",
      "Epoch[29/50], Step [76/235], Reconst Loss: 36708.4766, KL Div: 1520.4741\n",
      "Epoch[29/50], Step [101/235], Reconst Loss: 36614.8203, KL Div: 1527.7153\n",
      "Epoch[29/50], Step [126/235], Reconst Loss: 36555.8047, KL Div: 1543.2341\n",
      "Epoch[29/50], Step [151/235], Reconst Loss: 37910.7031, KL Div: 1514.6469\n",
      "Epoch[29/50], Step [176/235], Reconst Loss: 36948.4961, KL Div: 1519.6567\n",
      "Epoch[29/50], Step [201/235], Reconst Loss: 36786.5625, KL Div: 1513.1909\n",
      "Epoch[29/50], Step [226/235], Reconst Loss: 38034.0352, KL Div: 1514.5244\n"
     ]
    },
    {
     "name": "stderr",
     "output_type": "stream",
     "text": [
      "\r",
      " 58%|███████████████████████████████████████████████▌                                  | 29/50 [02:12<01:37,  4.64s/it]"
     ]
    },
    {
     "name": "stdout",
     "output_type": "stream",
     "text": [
      "Epoch[30/50], Step [1/235], Reconst Loss: 36075.4141, KL Div: 1493.0670\n",
      "Epoch[30/50], Step [26/235], Reconst Loss: 38361.4297, KL Div: 1487.1853\n",
      "Epoch[30/50], Step [51/235], Reconst Loss: 38147.5742, KL Div: 1498.4421\n",
      "Epoch[30/50], Step [76/235], Reconst Loss: 37289.3047, KL Div: 1557.2471\n",
      "Epoch[30/50], Step [101/235], Reconst Loss: 35631.1094, KL Div: 1492.8396\n",
      "Epoch[30/50], Step [126/235], Reconst Loss: 36629.9844, KL Div: 1506.9225\n",
      "Epoch[30/50], Step [151/235], Reconst Loss: 36930.5820, KL Div: 1541.5728\n",
      "Epoch[30/50], Step [176/235], Reconst Loss: 35880.1094, KL Div: 1535.2913\n",
      "Epoch[30/50], Step [201/235], Reconst Loss: 37376.0508, KL Div: 1509.5625\n",
      "Epoch[30/50], Step [226/235], Reconst Loss: 37181.7500, KL Div: 1507.8112\n"
     ]
    },
    {
     "name": "stderr",
     "output_type": "stream",
     "text": [
      "\r",
      " 60%|█████████████████████████████████████████████████▏                                | 30/50 [02:16<01:32,  4.62s/it]"
     ]
    },
    {
     "name": "stdout",
     "output_type": "stream",
     "text": [
      "Epoch[31/50], Step [1/235], Reconst Loss: 36884.3320, KL Div: 1538.3789\n",
      "Epoch[31/50], Step [26/235], Reconst Loss: 37062.8008, KL Div: 1512.9983\n",
      "Epoch[31/50], Step [51/235], Reconst Loss: 38654.4336, KL Div: 1519.6633\n",
      "Epoch[31/50], Step [76/235], Reconst Loss: 36916.7852, KL Div: 1516.0236\n",
      "Epoch[31/50], Step [101/235], Reconst Loss: 36598.2500, KL Div: 1495.6101\n",
      "Epoch[31/50], Step [126/235], Reconst Loss: 36695.0781, KL Div: 1532.4839\n",
      "Epoch[31/50], Step [151/235], Reconst Loss: 36952.3438, KL Div: 1556.1088\n",
      "Epoch[31/50], Step [176/235], Reconst Loss: 35826.4492, KL Div: 1527.5798\n",
      "Epoch[31/50], Step [201/235], Reconst Loss: 36856.3594, KL Div: 1546.1226\n",
      "Epoch[31/50], Step [226/235], Reconst Loss: 37028.2422, KL Div: 1528.5071\n"
     ]
    },
    {
     "name": "stderr",
     "output_type": "stream",
     "text": [
      "\r",
      " 62%|██████████████████████████████████████████████████▊                               | 31/50 [02:21<01:26,  4.58s/it]"
     ]
    },
    {
     "name": "stdout",
     "output_type": "stream",
     "text": [
      "Epoch[32/50], Step [1/235], Reconst Loss: 35769.4336, KL Div: 1550.2491\n",
      "Epoch[32/50], Step [26/235], Reconst Loss: 38015.7266, KL Div: 1510.9427\n",
      "Epoch[32/50], Step [51/235], Reconst Loss: 36313.4883, KL Div: 1568.8516\n",
      "Epoch[32/50], Step [76/235], Reconst Loss: 37255.6016, KL Div: 1509.8977\n",
      "Epoch[32/50], Step [101/235], Reconst Loss: 37763.0234, KL Div: 1545.2367\n",
      "Epoch[32/50], Step [126/235], Reconst Loss: 37534.1562, KL Div: 1505.4065\n",
      "Epoch[32/50], Step [151/235], Reconst Loss: 37968.6758, KL Div: 1515.4678\n",
      "Epoch[32/50], Step [176/235], Reconst Loss: 37095.1328, KL Div: 1533.3617\n",
      "Epoch[32/50], Step [201/235], Reconst Loss: 35302.8867, KL Div: 1514.8715\n",
      "Epoch[32/50], Step [226/235], Reconst Loss: 35412.5625, KL Div: 1560.1115\n"
     ]
    },
    {
     "name": "stderr",
     "output_type": "stream",
     "text": [
      "\r",
      " 64%|████████████████████████████████████████████████████▍                             | 32/50 [02:25<01:21,  4.55s/it]"
     ]
    },
    {
     "name": "stdout",
     "output_type": "stream",
     "text": [
      "Epoch[33/50], Step [1/235], Reconst Loss: 37362.9023, KL Div: 1530.2234\n",
      "Epoch[33/50], Step [26/235], Reconst Loss: 36041.8984, KL Div: 1557.7799\n",
      "Epoch[33/50], Step [51/235], Reconst Loss: 36145.2344, KL Div: 1542.5996\n",
      "Epoch[33/50], Step [76/235], Reconst Loss: 36932.7500, KL Div: 1546.3516\n",
      "Epoch[33/50], Step [101/235], Reconst Loss: 36600.9180, KL Div: 1508.7456\n",
      "Epoch[33/50], Step [126/235], Reconst Loss: 37533.5312, KL Div: 1479.0765\n",
      "Epoch[33/50], Step [151/235], Reconst Loss: 36744.4961, KL Div: 1496.7969\n",
      "Epoch[33/50], Step [176/235], Reconst Loss: 37964.1172, KL Div: 1556.9825\n",
      "Epoch[33/50], Step [201/235], Reconst Loss: 36926.7695, KL Div: 1516.7126\n",
      "Epoch[33/50], Step [226/235], Reconst Loss: 36567.6641, KL Div: 1542.6792\n"
     ]
    },
    {
     "name": "stderr",
     "output_type": "stream",
     "text": [
      "\r",
      " 66%|██████████████████████████████████████████████████████                            | 33/50 [02:30<01:16,  4.53s/it]"
     ]
    },
    {
     "name": "stdout",
     "output_type": "stream",
     "text": [
      "Epoch[34/50], Step [1/235], Reconst Loss: 35876.6250, KL Div: 1524.8209\n",
      "Epoch[34/50], Step [26/235], Reconst Loss: 36609.6406, KL Div: 1522.8494\n",
      "Epoch[34/50], Step [51/235], Reconst Loss: 36080.4922, KL Div: 1524.9912\n",
      "Epoch[34/50], Step [76/235], Reconst Loss: 35913.9531, KL Div: 1557.9745\n",
      "Epoch[34/50], Step [101/235], Reconst Loss: 36172.9453, KL Div: 1509.7212\n",
      "Epoch[34/50], Step [126/235], Reconst Loss: 36661.9727, KL Div: 1519.6400\n",
      "Epoch[34/50], Step [151/235], Reconst Loss: 37594.2734, KL Div: 1506.4990\n",
      "Epoch[34/50], Step [176/235], Reconst Loss: 36380.6133, KL Div: 1551.8754\n",
      "Epoch[34/50], Step [201/235], Reconst Loss: 36412.1133, KL Div: 1535.2258\n",
      "Epoch[34/50], Step [226/235], Reconst Loss: 37189.8125, KL Div: 1535.4830\n"
     ]
    },
    {
     "name": "stderr",
     "output_type": "stream",
     "text": [
      "\r",
      " 68%|███████████████████████████████████████████████████████▊                          | 34/50 [02:34<01:12,  4.51s/it]"
     ]
    },
    {
     "name": "stdout",
     "output_type": "stream",
     "text": [
      "Epoch[35/50], Step [1/235], Reconst Loss: 36453.3594, KL Div: 1529.3612\n",
      "Epoch[35/50], Step [26/235], Reconst Loss: 35600.3789, KL Div: 1518.9399\n",
      "Epoch[35/50], Step [51/235], Reconst Loss: 36161.4141, KL Div: 1520.5103\n",
      "Epoch[35/50], Step [76/235], Reconst Loss: 36721.7812, KL Div: 1561.3298\n",
      "Epoch[35/50], Step [101/235], Reconst Loss: 36702.6953, KL Div: 1605.9739\n",
      "Epoch[35/50], Step [126/235], Reconst Loss: 37912.1602, KL Div: 1549.2910\n",
      "Epoch[35/50], Step [151/235], Reconst Loss: 36479.7656, KL Div: 1544.7938\n",
      "Epoch[35/50], Step [176/235], Reconst Loss: 36510.7188, KL Div: 1564.3363\n",
      "Epoch[35/50], Step [201/235], Reconst Loss: 36610.6289, KL Div: 1582.8739\n",
      "Epoch[35/50], Step [226/235], Reconst Loss: 38008.8047, KL Div: 1508.0269\n"
     ]
    },
    {
     "name": "stderr",
     "output_type": "stream",
     "text": [
      "\r",
      " 70%|█████████████████████████████████████████████████████████▍                        | 35/50 [02:39<01:07,  4.49s/it]"
     ]
    },
    {
     "name": "stdout",
     "output_type": "stream",
     "text": [
      "Epoch[36/50], Step [1/235], Reconst Loss: 35853.5781, KL Div: 1569.1768\n",
      "Epoch[36/50], Step [26/235], Reconst Loss: 36600.4648, KL Div: 1492.0308\n",
      "Epoch[36/50], Step [51/235], Reconst Loss: 35675.5312, KL Div: 1529.2487\n",
      "Epoch[36/50], Step [76/235], Reconst Loss: 36634.8359, KL Div: 1558.9138\n",
      "Epoch[36/50], Step [101/235], Reconst Loss: 36790.9375, KL Div: 1512.0820\n",
      "Epoch[36/50], Step [126/235], Reconst Loss: 35828.8711, KL Div: 1581.8088\n",
      "Epoch[36/50], Step [151/235], Reconst Loss: 36094.7500, KL Div: 1592.6356\n",
      "Epoch[36/50], Step [176/235], Reconst Loss: 36771.7109, KL Div: 1548.5641\n",
      "Epoch[36/50], Step [201/235], Reconst Loss: 35565.3008, KL Div: 1531.7185\n",
      "Epoch[36/50], Step [226/235], Reconst Loss: 35944.2031, KL Div: 1547.4397\n"
     ]
    },
    {
     "name": "stderr",
     "output_type": "stream",
     "text": [
      "\r",
      " 72%|███████████████████████████████████████████████████████████                       | 36/50 [02:43<01:02,  4.48s/it]"
     ]
    },
    {
     "name": "stdout",
     "output_type": "stream",
     "text": [
      "Epoch[37/50], Step [1/235], Reconst Loss: 36073.2461, KL Div: 1554.4690\n",
      "Epoch[37/50], Step [26/235], Reconst Loss: 37379.3477, KL Div: 1593.1788\n",
      "Epoch[37/50], Step [51/235], Reconst Loss: 36833.1562, KL Div: 1551.7002\n",
      "Epoch[37/50], Step [76/235], Reconst Loss: 37008.2773, KL Div: 1543.9121\n",
      "Epoch[37/50], Step [101/235], Reconst Loss: 35734.8359, KL Div: 1575.5608\n",
      "Epoch[37/50], Step [126/235], Reconst Loss: 35277.2656, KL Div: 1589.4929\n",
      "Epoch[37/50], Step [151/235], Reconst Loss: 35937.0547, KL Div: 1525.4202\n",
      "Epoch[37/50], Step [176/235], Reconst Loss: 36895.0703, KL Div: 1568.8755\n",
      "Epoch[37/50], Step [201/235], Reconst Loss: 35761.7266, KL Div: 1585.6938\n",
      "Epoch[37/50], Step [226/235], Reconst Loss: 37411.9258, KL Div: 1533.5598\n"
     ]
    },
    {
     "name": "stderr",
     "output_type": "stream",
     "text": [
      "\r",
      " 74%|████████████████████████████████████████████████████████████▋                     | 37/50 [02:48<00:58,  4.48s/it]"
     ]
    },
    {
     "name": "stdout",
     "output_type": "stream",
     "text": [
      "Epoch[38/50], Step [1/235], Reconst Loss: 36267.7031, KL Div: 1531.6046\n",
      "Epoch[38/50], Step [26/235], Reconst Loss: 36384.4570, KL Div: 1538.1160\n",
      "Epoch[38/50], Step [51/235], Reconst Loss: 36228.9023, KL Div: 1570.2825\n",
      "Epoch[38/50], Step [76/235], Reconst Loss: 36650.1094, KL Div: 1600.1987\n",
      "Epoch[38/50], Step [101/235], Reconst Loss: 37484.5469, KL Div: 1523.2245\n",
      "Epoch[38/50], Step [126/235], Reconst Loss: 36840.5508, KL Div: 1537.2361\n",
      "Epoch[38/50], Step [151/235], Reconst Loss: 36569.9102, KL Div: 1529.5653\n",
      "Epoch[38/50], Step [176/235], Reconst Loss: 36530.0703, KL Div: 1568.3896\n",
      "Epoch[38/50], Step [201/235], Reconst Loss: 34963.9648, KL Div: 1571.7566\n",
      "Epoch[38/50], Step [226/235], Reconst Loss: 36976.6836, KL Div: 1612.5929\n"
     ]
    },
    {
     "name": "stderr",
     "output_type": "stream",
     "text": [
      "\r",
      " 76%|██████████████████████████████████████████████████████████████▎                   | 38/50 [02:52<00:53,  4.47s/it]"
     ]
    },
    {
     "name": "stdout",
     "output_type": "stream",
     "text": [
      "Epoch[39/50], Step [1/235], Reconst Loss: 36859.0391, KL Div: 1539.3058\n",
      "Epoch[39/50], Step [26/235], Reconst Loss: 36828.8906, KL Div: 1564.9713\n",
      "Epoch[39/50], Step [51/235], Reconst Loss: 35720.0586, KL Div: 1583.3308\n",
      "Epoch[39/50], Step [76/235], Reconst Loss: 36386.0195, KL Div: 1563.5790\n",
      "Epoch[39/50], Step [101/235], Reconst Loss: 36572.3672, KL Div: 1561.0200\n",
      "Epoch[39/50], Step [126/235], Reconst Loss: 36369.5156, KL Div: 1582.1678\n",
      "Epoch[39/50], Step [151/235], Reconst Loss: 38742.6719, KL Div: 1567.8091\n",
      "Epoch[39/50], Step [176/235], Reconst Loss: 36233.2656, KL Div: 1530.9829\n",
      "Epoch[39/50], Step [201/235], Reconst Loss: 34980.5312, KL Div: 1590.8813\n",
      "Epoch[39/50], Step [226/235], Reconst Loss: 35981.3242, KL Div: 1539.4214\n"
     ]
    },
    {
     "name": "stderr",
     "output_type": "stream",
     "text": [
      "\r",
      " 78%|███████████████████████████████████████████████████████████████▉                  | 39/50 [02:56<00:49,  4.46s/it]"
     ]
    },
    {
     "name": "stdout",
     "output_type": "stream",
     "text": [
      "Epoch[40/50], Step [1/235], Reconst Loss: 35706.7891, KL Div: 1533.8652\n",
      "Epoch[40/50], Step [26/235], Reconst Loss: 36468.5938, KL Div: 1562.1505\n",
      "Epoch[40/50], Step [51/235], Reconst Loss: 36525.2734, KL Div: 1546.1991\n",
      "Epoch[40/50], Step [76/235], Reconst Loss: 36626.8828, KL Div: 1569.2336\n",
      "Epoch[40/50], Step [101/235], Reconst Loss: 36813.1797, KL Div: 1568.2874\n",
      "Epoch[40/50], Step [126/235], Reconst Loss: 36171.5586, KL Div: 1561.7798\n",
      "Epoch[40/50], Step [151/235], Reconst Loss: 34823.1172, KL Div: 1562.9026\n",
      "Epoch[40/50], Step [176/235], Reconst Loss: 35090.9727, KL Div: 1587.0122\n",
      "Epoch[40/50], Step [201/235], Reconst Loss: 35784.6133, KL Div: 1607.0876\n",
      "Epoch[40/50], Step [226/235], Reconst Loss: 36707.2188, KL Div: 1546.0558\n"
     ]
    },
    {
     "name": "stderr",
     "output_type": "stream",
     "text": [
      "\r",
      " 80%|█████████████████████████████████████████████████████████████████▌                | 40/50 [03:01<00:44,  4.46s/it]"
     ]
    },
    {
     "name": "stdout",
     "output_type": "stream",
     "text": [
      "Epoch[41/50], Step [1/235], Reconst Loss: 36730.6797, KL Div: 1583.8241\n",
      "Epoch[41/50], Step [26/235], Reconst Loss: 36465.3672, KL Div: 1575.4413\n",
      "Epoch[41/50], Step [51/235], Reconst Loss: 35852.5742, KL Div: 1539.2000\n",
      "Epoch[41/50], Step [76/235], Reconst Loss: 36366.5312, KL Div: 1552.1506\n",
      "Epoch[41/50], Step [101/235], Reconst Loss: 35918.9805, KL Div: 1562.6697\n",
      "Epoch[41/50], Step [126/235], Reconst Loss: 36782.7109, KL Div: 1575.0885\n",
      "Epoch[41/50], Step [151/235], Reconst Loss: 37727.2109, KL Div: 1567.4346\n",
      "Epoch[41/50], Step [176/235], Reconst Loss: 36346.7930, KL Div: 1555.9988\n",
      "Epoch[41/50], Step [201/235], Reconst Loss: 34406.9688, KL Div: 1580.9304\n",
      "Epoch[41/50], Step [226/235], Reconst Loss: 35987.4453, KL Div: 1575.4377\n"
     ]
    },
    {
     "name": "stderr",
     "output_type": "stream",
     "text": [
      "\r",
      " 82%|███████████████████████████████████████████████████████████████████▏              | 41/50 [03:05<00:40,  4.46s/it]"
     ]
    },
    {
     "name": "stdout",
     "output_type": "stream",
     "text": [
      "Epoch[42/50], Step [1/235], Reconst Loss: 36535.0234, KL Div: 1584.6382\n",
      "Epoch[42/50], Step [26/235], Reconst Loss: 36022.0312, KL Div: 1587.3855\n",
      "Epoch[42/50], Step [51/235], Reconst Loss: 34846.5859, KL Div: 1580.4065\n",
      "Epoch[42/50], Step [76/235], Reconst Loss: 36738.7422, KL Div: 1554.9148\n",
      "Epoch[42/50], Step [101/235], Reconst Loss: 35635.1875, KL Div: 1643.3086\n",
      "Epoch[42/50], Step [126/235], Reconst Loss: 35531.8203, KL Div: 1555.1365\n",
      "Epoch[42/50], Step [151/235], Reconst Loss: 35629.7031, KL Div: 1595.1838\n",
      "Epoch[42/50], Step [176/235], Reconst Loss: 35779.6250, KL Div: 1569.2590\n",
      "Epoch[42/50], Step [201/235], Reconst Loss: 36246.6602, KL Div: 1607.7483\n",
      "Epoch[42/50], Step [226/235], Reconst Loss: 35801.5977, KL Div: 1553.6321\n"
     ]
    },
    {
     "name": "stderr",
     "output_type": "stream",
     "text": [
      "\r",
      " 84%|████████████████████████████████████████████████████████████████████▉             | 42/50 [03:10<00:35,  4.46s/it]"
     ]
    },
    {
     "name": "stdout",
     "output_type": "stream",
     "text": [
      "Epoch[43/50], Step [1/235], Reconst Loss: 35791.3477, KL Div: 1569.1316\n",
      "Epoch[43/50], Step [26/235], Reconst Loss: 35468.7734, KL Div: 1589.1302\n",
      "Epoch[43/50], Step [51/235], Reconst Loss: 36138.3398, KL Div: 1568.0200\n",
      "Epoch[43/50], Step [76/235], Reconst Loss: 36178.9844, KL Div: 1586.0409\n",
      "Epoch[43/50], Step [101/235], Reconst Loss: 36229.1992, KL Div: 1601.5559\n",
      "Epoch[43/50], Step [126/235], Reconst Loss: 35781.3555, KL Div: 1589.3599\n",
      "Epoch[43/50], Step [151/235], Reconst Loss: 37102.0430, KL Div: 1635.2080\n",
      "Epoch[43/50], Step [176/235], Reconst Loss: 35275.7188, KL Div: 1559.4604\n",
      "Epoch[43/50], Step [201/235], Reconst Loss: 35943.7578, KL Div: 1566.2104\n",
      "Epoch[43/50], Step [226/235], Reconst Loss: 34390.9688, KL Div: 1560.9736\n"
     ]
    },
    {
     "name": "stderr",
     "output_type": "stream",
     "text": [
      "\r",
      " 86%|██████████████████████████████████████████████████████████████████████▌           | 43/50 [03:14<00:31,  4.47s/it]"
     ]
    },
    {
     "name": "stdout",
     "output_type": "stream",
     "text": [
      "Epoch[44/50], Step [1/235], Reconst Loss: 36402.1797, KL Div: 1565.2212\n",
      "Epoch[44/50], Step [26/235], Reconst Loss: 35552.6328, KL Div: 1580.8126\n",
      "Epoch[44/50], Step [51/235], Reconst Loss: 35193.0508, KL Div: 1608.8566\n",
      "Epoch[44/50], Step [76/235], Reconst Loss: 36270.9688, KL Div: 1569.1418\n",
      "Epoch[44/50], Step [101/235], Reconst Loss: 35975.4844, KL Div: 1588.4614\n",
      "Epoch[44/50], Step [126/235], Reconst Loss: 37304.4414, KL Div: 1533.6395\n",
      "Epoch[44/50], Step [151/235], Reconst Loss: 35856.7891, KL Div: 1562.4552\n",
      "Epoch[44/50], Step [176/235], Reconst Loss: 36288.6797, KL Div: 1570.2885\n",
      "Epoch[44/50], Step [201/235], Reconst Loss: 36052.1133, KL Div: 1596.6814\n",
      "Epoch[44/50], Step [226/235], Reconst Loss: 36335.9922, KL Div: 1570.7542\n"
     ]
    },
    {
     "name": "stderr",
     "output_type": "stream",
     "text": [
      "\r",
      " 88%|████████████████████████████████████████████████████████████████████████▏         | 44/50 [03:19<00:26,  4.46s/it]"
     ]
    },
    {
     "name": "stdout",
     "output_type": "stream",
     "text": [
      "Epoch[45/50], Step [1/235], Reconst Loss: 37035.7539, KL Div: 1549.2283\n",
      "Epoch[45/50], Step [26/235], Reconst Loss: 35008.8438, KL Div: 1583.8408\n",
      "Epoch[45/50], Step [51/235], Reconst Loss: 36782.9883, KL Div: 1595.1879\n",
      "Epoch[45/50], Step [76/235], Reconst Loss: 37664.5508, KL Div: 1563.3037\n",
      "Epoch[45/50], Step [101/235], Reconst Loss: 35597.4141, KL Div: 1580.7273\n",
      "Epoch[45/50], Step [126/235], Reconst Loss: 37021.3008, KL Div: 1592.3406\n",
      "Epoch[45/50], Step [151/235], Reconst Loss: 36003.9414, KL Div: 1606.1335\n",
      "Epoch[45/50], Step [176/235], Reconst Loss: 37099.6406, KL Div: 1557.7516\n",
      "Epoch[45/50], Step [201/235], Reconst Loss: 36579.3164, KL Div: 1581.8004\n",
      "Epoch[45/50], Step [226/235], Reconst Loss: 36594.9219, KL Div: 1564.9521\n"
     ]
    },
    {
     "name": "stderr",
     "output_type": "stream",
     "text": [
      "\r",
      " 90%|█████████████████████████████████████████████████████████████████████████▊        | 45/50 [03:23<00:22,  4.46s/it]"
     ]
    },
    {
     "name": "stdout",
     "output_type": "stream",
     "text": [
      "Epoch[46/50], Step [1/235], Reconst Loss: 35259.0977, KL Div: 1583.8918\n",
      "Epoch[46/50], Step [26/235], Reconst Loss: 36084.9961, KL Div: 1586.6832\n",
      "Epoch[46/50], Step [51/235], Reconst Loss: 35249.0078, KL Div: 1582.7031\n",
      "Epoch[46/50], Step [76/235], Reconst Loss: 35694.6680, KL Div: 1618.0917\n",
      "Epoch[46/50], Step [101/235], Reconst Loss: 35441.0234, KL Div: 1570.0363\n",
      "Epoch[46/50], Step [126/235], Reconst Loss: 37092.0859, KL Div: 1584.7865\n",
      "Epoch[46/50], Step [151/235], Reconst Loss: 35232.8164, KL Div: 1599.7471\n",
      "Epoch[46/50], Step [176/235], Reconst Loss: 37351.0352, KL Div: 1554.5168\n",
      "Epoch[46/50], Step [201/235], Reconst Loss: 34656.0664, KL Div: 1606.1428\n",
      "Epoch[46/50], Step [226/235], Reconst Loss: 35027.2500, KL Div: 1580.7550\n"
     ]
    },
    {
     "name": "stderr",
     "output_type": "stream",
     "text": [
      "\r",
      " 92%|███████████████████████████████████████████████████████████████████████████▍      | 46/50 [03:28<00:17,  4.46s/it]"
     ]
    },
    {
     "name": "stdout",
     "output_type": "stream",
     "text": [
      "Epoch[47/50], Step [1/235], Reconst Loss: 35596.9062, KL Div: 1638.6711\n",
      "Epoch[47/50], Step [26/235], Reconst Loss: 36013.1484, KL Div: 1608.6460\n",
      "Epoch[47/50], Step [51/235], Reconst Loss: 35438.8711, KL Div: 1606.2898\n",
      "Epoch[47/50], Step [76/235], Reconst Loss: 36007.9414, KL Div: 1626.4889\n",
      "Epoch[47/50], Step [101/235], Reconst Loss: 35979.6406, KL Div: 1579.5496\n",
      "Epoch[47/50], Step [126/235], Reconst Loss: 35873.0508, KL Div: 1565.4392\n",
      "Epoch[47/50], Step [151/235], Reconst Loss: 36600.9297, KL Div: 1583.6973\n",
      "Epoch[47/50], Step [176/235], Reconst Loss: 35397.7812, KL Div: 1589.1270\n",
      "Epoch[47/50], Step [201/235], Reconst Loss: 35638.0273, KL Div: 1538.4631\n",
      "Epoch[47/50], Step [226/235], Reconst Loss: 35091.2422, KL Div: 1601.4182\n"
     ]
    },
    {
     "name": "stderr",
     "output_type": "stream",
     "text": [
      "\r",
      " 94%|█████████████████████████████████████████████████████████████████████████████     | 47/50 [03:32<00:13,  4.45s/it]"
     ]
    },
    {
     "name": "stdout",
     "output_type": "stream",
     "text": [
      "Epoch[48/50], Step [1/235], Reconst Loss: 35392.7109, KL Div: 1601.3855\n",
      "Epoch[48/50], Step [26/235], Reconst Loss: 36568.4531, KL Div: 1583.7537\n",
      "Epoch[48/50], Step [51/235], Reconst Loss: 37111.4766, KL Div: 1583.7498\n",
      "Epoch[48/50], Step [76/235], Reconst Loss: 36305.2266, KL Div: 1547.8990\n",
      "Epoch[48/50], Step [101/235], Reconst Loss: 36079.8750, KL Div: 1608.4252\n",
      "Epoch[48/50], Step [126/235], Reconst Loss: 35408.7930, KL Div: 1593.3711\n",
      "Epoch[48/50], Step [151/235], Reconst Loss: 37777.6367, KL Div: 1635.9529\n",
      "Epoch[48/50], Step [176/235], Reconst Loss: 36258.1992, KL Div: 1590.7554\n",
      "Epoch[48/50], Step [201/235], Reconst Loss: 33703.7422, KL Div: 1613.5640\n",
      "Epoch[48/50], Step [226/235], Reconst Loss: 36248.3281, KL Div: 1596.4941\n"
     ]
    },
    {
     "name": "stderr",
     "output_type": "stream",
     "text": [
      "\r",
      " 96%|██████████████████████████████████████████████████████████████████████████████▋   | 48/50 [03:37<00:08,  4.45s/it]"
     ]
    },
    {
     "name": "stdout",
     "output_type": "stream",
     "text": [
      "Epoch[49/50], Step [1/235], Reconst Loss: 36913.7695, KL Div: 1580.7029\n",
      "Epoch[49/50], Step [26/235], Reconst Loss: 36010.9023, KL Div: 1614.1589\n",
      "Epoch[49/50], Step [51/235], Reconst Loss: 35253.5977, KL Div: 1606.9133\n",
      "Epoch[49/50], Step [76/235], Reconst Loss: 35185.3945, KL Div: 1615.0277\n",
      "Epoch[49/50], Step [101/235], Reconst Loss: 35576.3398, KL Div: 1602.9121\n",
      "Epoch[49/50], Step [126/235], Reconst Loss: 35238.9883, KL Div: 1612.2614\n",
      "Epoch[49/50], Step [151/235], Reconst Loss: 35854.8828, KL Div: 1597.5840\n",
      "Epoch[49/50], Step [176/235], Reconst Loss: 35582.0312, KL Div: 1624.6167\n",
      "Epoch[49/50], Step [201/235], Reconst Loss: 36896.1250, KL Div: 1562.2939\n",
      "Epoch[49/50], Step [226/235], Reconst Loss: 36271.9648, KL Div: 1585.3517\n"
     ]
    },
    {
     "name": "stderr",
     "output_type": "stream",
     "text": [
      "\r",
      " 98%|████████████████████████████████████████████████████████████████████████████████▎ | 49/50 [03:41<00:04,  4.45s/it]"
     ]
    },
    {
     "name": "stdout",
     "output_type": "stream",
     "text": [
      "Epoch[50/50], Step [1/235], Reconst Loss: 33998.1328, KL Div: 1647.1101\n",
      "Epoch[50/50], Step [26/235], Reconst Loss: 33963.8125, KL Div: 1616.6943\n",
      "Epoch[50/50], Step [51/235], Reconst Loss: 35021.1797, KL Div: 1574.2008\n",
      "Epoch[50/50], Step [76/235], Reconst Loss: 35169.5898, KL Div: 1593.1660\n",
      "Epoch[50/50], Step [101/235], Reconst Loss: 36661.1367, KL Div: 1602.6226\n",
      "Epoch[50/50], Step [126/235], Reconst Loss: 35190.2109, KL Div: 1626.1484\n",
      "Epoch[50/50], Step [151/235], Reconst Loss: 36646.8281, KL Div: 1596.7043\n",
      "Epoch[50/50], Step [176/235], Reconst Loss: 37013.1094, KL Div: 1602.9960\n",
      "Epoch[50/50], Step [201/235], Reconst Loss: 35177.4844, KL Div: 1595.7798\n",
      "Epoch[50/50], Step [226/235], Reconst Loss: 34892.9297, KL Div: 1585.9268\n"
     ]
    },
    {
     "name": "stderr",
     "output_type": "stream",
     "text": [
      "100%|██████████████████████████████████████████████████████████████████████████████████| 50/50 [03:46<00:00,  4.52s/it]\n"
     ]
    }
   ],
   "source": [
    "for i in tqdm(range(epoch)):\n",
    "    for j,(imgs,labels) in enumerate(data_loader):\n",
    "        imgs = imgs.view(-1,784)\n",
    "        imgs = imgs.cuda()\n",
    "        imgs_re,kl_div,reconst_loss = vae(imgs)\n",
    "        loss = reconst_loss + kl_div\n",
    "        #break\n",
    "        optimizer.zero_grad()\n",
    "        loss.backward()\n",
    "        optimizer.step()\n",
    "        #print(loss)\n",
    "        loss_log_list.append(loss.detach().cpu().numpy().tolist())\n",
    "        kl_log.append(kl_div.detach().cpu().numpy().tolist())\n",
    "        reconst_log.append(reconst_loss.detach().cpu().numpy().tolist())\n",
    "        #break\n",
    "        if j % 25 == 0:\n",
    "            print (\"Epoch[{}/{}], Step [{}/{}], Reconst Loss: {:.4f}, KL Div: {:.4f}\" \n",
    "                   .format(i+1, epoch, j+1, len(data_loader), reconst_loss.item(), kl_div.item()))\n",
    "            \n",
    "    with torch.no_grad():\n",
    "        # 随机生成的图像\n",
    "        z = torch.randn(batch_size, latent_space_dim).to(torch.device(\"cuda\"))\n",
    "        out = vae.decoder(z).view(-1, 1, 28, 28)\n",
    "        save_image(out, 'vae_mnist/sampled-{}.png'.format(epoch+1))\n",
    "\n",
    "        # 重构的图像\n",
    "        out, _, _ = vae(imgs)\n",
    "        x_concat = torch.cat([imgs.view(-1, 1, 28, 28), out.view(-1, 1, 28, 28)], dim=3)\n",
    "        save_image(x_concat, 'vae_mnist/reconst-{}.png'.format(epoch+1))\n",
    "    #break\n"
   ]
  },
  {
   "cell_type": "markdown",
   "id": "767799e4",
   "metadata": {},
   "source": [
    "# 画出损失函数"
   ]
  },
  {
   "cell_type": "code",
   "execution_count": 18,
   "id": "88407e3d",
   "metadata": {},
   "outputs": [],
   "source": [
    "import matplotlib.pyplot as plt"
   ]
  },
  {
   "cell_type": "code",
   "execution_count": 19,
   "id": "a1b03851",
   "metadata": {},
   "outputs": [
    {
     "data": {
      "text/plain": [
       "[<matplotlib.lines.Line2D at 0x1cc0b773310>]"
      ]
     },
     "execution_count": 19,
     "metadata": {},
     "output_type": "execute_result"
    },
    {
     "data": {
      "image/png": "[encoded data removed]",
      "text/plain": [
       "<Figure size 432x288 with 1 Axes>"
      ]
     },
     "metadata": {
      "needs_background": "light"
     },
     "output_type": "display_data"
    }
   ],
   "source": [
    "plt.plot(loss_log_list)\n",
    "plt.plot(kl_log)\n",
    "plt.plot(reconst_log)"
   ]
  },
  {
   "cell_type": "code",
   "execution_count": null,
   "id": "febc8044",
   "metadata": {},
   "outputs": [],
   "source": []
  }
 ],
 "metadata": {
  "kernelspec": {
   "display_name": "Python 3 (ipykernel)",
   "language": "python",
   "name": "python3"
  },
  "language_info": {
   "codemirror_mode": {
    "name": "ipython",
    "version": 3
   },
   "file_extension": ".py",
   "mimetype": "text/x-python",
   "name": "python",
   "nbconvert_exporter": "python",
   "pygments_lexer": "ipython3",
   "version": "3.9.0"
  }
 },
 "nbformat": 4,
 "nbformat_minor": 5
}
